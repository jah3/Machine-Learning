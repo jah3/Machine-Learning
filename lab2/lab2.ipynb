{
 "cells": [
  {
   "cell_type": "code",
   "execution_count": 1,
   "id": "bce4d3cc-2bf2-4e53-be90-343a7f2388d7",
   "metadata": {
    "tags": []
   },
   "outputs": [],
   "source": [
    "# Importarea bibliotecilor necesare\n",
    "import pandas as pd\n",
    "import numpy as np\n",
    "from sklearn.model_selection import train_test_split\n",
    "from sklearn.preprocessing import StandardScaler\n",
    "from sklearn.linear_model import LogisticRegression\n",
    "from sklearn.tree import DecisionTreeClassifier\n",
    "from sklearn.ensemble import RandomForestClassifier\n",
    "from sklearn.metrics import accuracy_score, classification_report\n"
   ]
  },
  {
   "cell_type": "code",
   "execution_count": 4,
   "id": "e8a810e1-eb15-4243-bfd0-f01b5d819365",
   "metadata": {
    "tags": []
   },
   "outputs": [
    {
     "name": "stdout",
     "output_type": "stream",
     "text": [
      "Date încărcate cu succes.\n"
     ]
    }
   ],
   "source": [
    "\n",
    "# 1. Încărcarea setului de date\n",
    "file_path = r'C:\\Users\\user\\Desktop\\ASEM\\ML\\lab2\\bank-full.xls'\n",
    "try:\n",
    "    data = pd.read_csv(file_path, sep=';')\n",
    "    print(\"Date încărcate cu succes.\")\n",
    "except FileNotFoundError:\n",
    "    raise FileNotFoundError(\"Fișierul specificat nu a fost găsit. Verifică calea corectă.\")\n"
   ]
  },
  {
   "cell_type": "code",
   "execution_count": 5,
   "id": "a209bbe1-f6d2-4c11-b7d7-722833e4c452",
   "metadata": {
    "tags": []
   },
   "outputs": [
    {
     "name": "stdout",
     "output_type": "stream",
     "text": [
      "Primele 5 rânduri ale dataset-ului:\n",
      "   age           job  marital  education default  balance housing loan  \\\n",
      "0   58    management  married   tertiary      no     2143     yes   no   \n",
      "1   44    technician   single  secondary      no       29     yes   no   \n",
      "2   33  entrepreneur  married  secondary      no        2     yes  yes   \n",
      "3   47   blue-collar  married    unknown      no     1506     yes   no   \n",
      "4   33       unknown   single    unknown      no        1      no   no   \n",
      "\n",
      "   contact  day month  duration  campaign  pdays  previous poutcome   y  \n",
      "0  unknown    5   may       261         1     -1         0  unknown  no  \n",
      "1  unknown    5   may       151         1     -1         0  unknown  no  \n",
      "2  unknown    5   may        76         1     -1         0  unknown  no  \n",
      "3  unknown    5   may        92         1     -1         0  unknown  no  \n",
      "4  unknown    5   may       198         1     -1         0  unknown  no  \n",
      "Statistici descriptive:\n",
      "                age        balance           day      duration      campaign  \\\n",
      "count  45211.000000   45211.000000  45211.000000  45211.000000  45211.000000   \n",
      "mean      40.936210    1362.272058     15.806419    258.163080      2.763841   \n",
      "std       10.618762    3044.765829      8.322476    257.527812      3.098021   \n",
      "min       18.000000   -8019.000000      1.000000      0.000000      1.000000   \n",
      "25%       33.000000      72.000000      8.000000    103.000000      1.000000   \n",
      "50%       39.000000     448.000000     16.000000    180.000000      2.000000   \n",
      "75%       48.000000    1428.000000     21.000000    319.000000      3.000000   \n",
      "max       95.000000  102127.000000     31.000000   4918.000000     63.000000   \n",
      "\n",
      "              pdays      previous  \n",
      "count  45211.000000  45211.000000  \n",
      "mean      40.197828      0.580323  \n",
      "std      100.128746      2.303441  \n",
      "min       -1.000000      0.000000  \n",
      "25%       -1.000000      0.000000  \n",
      "50%       -1.000000      0.000000  \n",
      "75%       -1.000000      0.000000  \n",
      "max      871.000000    275.000000  \n",
      "Numărul de valori lipsă per coloană:\n",
      "age          0\n",
      "job          0\n",
      "marital      0\n",
      "education    0\n",
      "default      0\n",
      "balance      0\n",
      "housing      0\n",
      "loan         0\n",
      "contact      0\n",
      "day          0\n",
      "month        0\n",
      "duration     0\n",
      "campaign     0\n",
      "pdays        0\n",
      "previous     0\n",
      "poutcome     0\n",
      "y            0\n",
      "dtype: int64\n"
     ]
    }
   ],
   "source": [
    "\n",
    "# 2. Preprocesarea datelor\n",
    "\n",
    "# a) Vizualizarea primelor 5 rânduri din setul de date\n",
    "print(\"Primele 5 rânduri ale dataset-ului:\")\n",
    "print(data.head())\n",
    "\n",
    "# b) Vizualizarea statisticilor descriptive\n",
    "print(\"Statistici descriptive:\")\n",
    "print(data.describe())\n",
    "\n",
    "# c) Tratarea valorilor lipsă\n",
    "print(\"Numărul de valori lipsă per coloană:\")\n",
    "print(data.isnull().sum())\n",
    "# Eliminăm valorile lipsă\n",
    "data = data.dropna()\n",
    "\n",
    "# d) Detectarea și eliminarea outlierilor folosind IQR\n",
    "numeric_cols = data.select_dtypes(include=[np.number]).columns\n",
    "Q1 = data[numeric_cols].quantile(0.25)\n",
    "Q3 = data[numeric_cols].quantile(0.75)\n",
    "IQR = Q3 - Q1\n",
    "data = data[~((data[numeric_cols] < (Q1 - 1.5 * IQR)) | (data[numeric_cols] > (Q3 + 1.5 * IQR))).any(axis=1)]\n"
   ]
  },
  {
   "cell_type": "code",
   "execution_count": 6,
   "id": "90a62ac9-2f51-4223-9900-bee676972c0e",
   "metadata": {
    "tags": []
   },
   "outputs": [
    {
     "name": "stdout",
     "output_type": "stream",
     "text": [
      "Matricea de confuzie:\n",
      "[[7922   64]\n",
      " [ 393   79]]\n",
      "\n",
      "Raportul de clasificare:\n",
      "              precision    recall  f1-score   support\n",
      "\n",
      "          no       0.95      0.99      0.97      7986\n",
      "         yes       0.55      0.17      0.26       472\n",
      "\n",
      "    accuracy                           0.95      8458\n",
      "   macro avg       0.75      0.58      0.61      8458\n",
      "weighted avg       0.93      0.95      0.93      8458\n",
      "\n"
     ]
    },
    {
     "name": "stderr",
     "output_type": "stream",
     "text": [
      "D:\\anaconda\\Lib\\site-packages\\sklearn\\linear_model\\_logistic.py:465: ConvergenceWarning: lbfgs failed to converge (status=1):\n",
      "STOP: TOTAL NO. of ITERATIONS REACHED LIMIT.\n",
      "\n",
      "Increase the number of iterations (max_iter) or scale the data as shown in:\n",
      "    https://scikit-learn.org/stable/modules/preprocessing.html\n",
      "Please also refer to the documentation for alternative solver options:\n",
      "    https://scikit-learn.org/stable/modules/linear_model.html#logistic-regression\n",
      "  n_iter_i = _check_optimize_result(\n"
     ]
    }
   ],
   "source": [
    "from sklearn.model_selection import train_test_split\n",
    "from sklearn.linear_model import LogisticRegression\n",
    "from sklearn.metrics import classification_report, confusion_matrix\n",
    "\n",
    "# Definirea caracteristicilor și a variabilei țintă\n",
    "X = data.drop('y', axis=1)\n",
    "y = data['y']\n",
    "\n",
    "# Conversia variabilelor categorice în variabile dummy\n",
    "X = pd.get_dummies(X, drop_first=True)\n",
    "\n",
    "# Împărțirea datelor în seturi de antrenament și testare\n",
    "X_train, X_test, y_train, y_test = train_test_split(X, y, test_size=0.3, random_state=42)\n",
    "\n",
    "# Crearea modelului de regresie logistică\n",
    "log_reg = LogisticRegression(max_iter=1000)\n",
    "log_reg.fit(X_train, y_train)\n",
    "\n",
    "# Prezicerea pe setul de testare\n",
    "y_pred_log_reg = log_reg.predict(X_test)\n",
    "\n",
    "# Evaluarea modelului\n",
    "print(\"Matricea de confuzie:\")\n",
    "print(confusion_matrix(y_test, y_pred_log_reg))\n",
    "print(\"\\nRaportul de clasificare:\")\n",
    "print(classification_report(y_test, y_pred_log_reg))\n"
   ]
  },
  {
   "cell_type": "code",
   "execution_count": 7,
   "id": "7140225e-d622-4426-a713-3aaac41acd15",
   "metadata": {
    "tags": []
   },
   "outputs": [
    {
     "name": "stdout",
     "output_type": "stream",
     "text": [
      "Matricea de confuzie:\n",
      "[[7627  359]\n",
      " [ 308  164]]\n",
      "\n",
      "Raportul de clasificare:\n",
      "              precision    recall  f1-score   support\n",
      "\n",
      "          no       0.96      0.96      0.96      7986\n",
      "         yes       0.31      0.35      0.33       472\n",
      "\n",
      "    accuracy                           0.92      8458\n",
      "   macro avg       0.64      0.65      0.64      8458\n",
      "weighted avg       0.93      0.92      0.92      8458\n",
      "\n"
     ]
    }
   ],
   "source": [
    "from sklearn.tree import DecisionTreeClassifier\n",
    "\n",
    "# Crearea modelului arborelui decisional\n",
    "dt_model = DecisionTreeClassifier(random_state=42)\n",
    "dt_model.fit(X_train, y_train)\n",
    "\n",
    "# Prezicerea pe setul de testare\n",
    "y_pred_dt = dt_model.predict(X_test)\n",
    "\n",
    "# Evaluarea modelului\n",
    "print(\"Matricea de confuzie:\")\n",
    "print(confusion_matrix(y_test, y_pred_dt))\n",
    "print(\"\\nRaportul de clasificare:\")\n",
    "print(classification_report(y_test, y_pred_dt))\n"
   ]
  },
  {
   "cell_type": "code",
   "execution_count": 8,
   "id": "917e996a-1c0d-414e-be13-ac967471b765",
   "metadata": {
    "tags": []
   },
   "outputs": [
    {
     "name": "stdout",
     "output_type": "stream",
     "text": [
      "Matricea de confuzie:\n",
      "[[7952   34]\n",
      " [ 395   77]]\n",
      "\n",
      "Raportul de clasificare:\n",
      "              precision    recall  f1-score   support\n",
      "\n",
      "          no       0.95      1.00      0.97      7986\n",
      "         yes       0.69      0.16      0.26       472\n",
      "\n",
      "    accuracy                           0.95      8458\n",
      "   macro avg       0.82      0.58      0.62      8458\n",
      "weighted avg       0.94      0.95      0.93      8458\n",
      "\n"
     ]
    }
   ],
   "source": [
    "from sklearn.ensemble import RandomForestClassifier\n",
    "\n",
    "# Crearea modelului Random Forest\n",
    "rf_model = RandomForestClassifier(n_estimators=100, random_state=42)\n",
    "rf_model.fit(X_train, y_train)\n",
    "\n",
    "# Prezicerea pe setul de testare\n",
    "y_pred_rf = rf_model.predict(X_test)\n",
    "\n",
    "# Evaluarea modelului\n",
    "print(\"Matricea de confuzie:\")\n",
    "print(confusion_matrix(y_test, y_pred_rf))\n",
    "print(\"\\nRaportul de clasificare:\")\n",
    "print(classification_report(y_test, y_pred_rf))\n"
   ]
  },
  {
   "cell_type": "code",
   "execution_count": 9,
   "id": "220c6bb7-b3ef-489c-b4ee-8298d5fcc2b5",
   "metadata": {
    "tags": []
   },
   "outputs": [
    {
     "name": "stdout",
     "output_type": "stream",
     "text": [
      "Compararea performanțelor modelelor:\n",
      "                 Model  Accuracy  Precision    Recall  F1-Score\n",
      "0  Logistic Regression  0.945968   0.552448  0.167373  0.256911\n",
      "1        Decision Tree  0.921140   0.313576  0.347458  0.329648\n",
      "2        Random Forest  0.949279   0.693694  0.163136  0.264151\n"
     ]
    }
   ],
   "source": [
    "import pandas as pd\n",
    "from sklearn.metrics import classification_report\n",
    "\n",
    "# Creăm un DataFrame pentru a stoca rezultatele\n",
    "results = pd.DataFrame(columns=['Model', 'Accuracy', 'Precision', 'Recall', 'F1-Score'])\n",
    "\n",
    "# Modelul de regresie logistică\n",
    "log_reg_report = classification_report(y_test, y_pred_log_reg, output_dict=True)\n",
    "log_reg_results = pd.DataFrame({\n",
    "    'Model': ['Logistic Regression'],\n",
    "    'Accuracy': [log_reg_report['accuracy']],\n",
    "    'Precision': [log_reg_report['yes']['precision']],\n",
    "    'Recall': [log_reg_report['yes']['recall']],\n",
    "    'F1-Score': [log_reg_report['yes']['f1-score']]\n",
    "})\n",
    "\n",
    "# Modelul arborelui decisional\n",
    "dt_report = classification_report(y_test, y_pred_dt, output_dict=True)\n",
    "dt_results = pd.DataFrame({\n",
    "    'Model': ['Decision Tree'],\n",
    "    'Accuracy': [dt_report['accuracy']],\n",
    "    'Precision': [dt_report['yes']['precision']],\n",
    "    'Recall': [dt_report['yes']['recall']],\n",
    "    'F1-Score': [dt_report['yes']['f1-score']]\n",
    "})\n",
    "\n",
    "# Modelul Random Forest\n",
    "rf_report = classification_report(y_test, y_pred_rf, output_dict=True)\n",
    "rf_results = pd.DataFrame({\n",
    "    'Model': ['Random Forest'],\n",
    "    'Accuracy': [rf_report['accuracy']],\n",
    "    'Precision': [rf_report['yes']['precision']],\n",
    "    'Recall': [rf_report['yes']['recall']],\n",
    "    'F1-Score': [rf_report['yes']['f1-score']]\n",
    "})\n",
    "\n",
    "# Concatenarea rezultatelor\n",
    "results = pd.concat([results, log_reg_results, dt_results, rf_results], ignore_index=True)\n",
    "\n",
    "# Afișarea rezultatelor\n",
    "print(\"Compararea performanțelor modelelor:\")\n",
    "print(results)\n"
   ]
  },
  {
   "cell_type": "code",
   "execution_count": null,
   "id": "9ccef3c1-7ba2-4455-a6ac-8045ac9a503f",
   "metadata": {},
   "outputs": [],
   "source": []
  }
 ],
 "metadata": {
  "kernelspec": {
   "display_name": "Python 3 (ipykernel)",
   "language": "python",
   "name": "python3"
  },
  "language_info": {
   "codemirror_mode": {
    "name": "ipython",
    "version": 3
   },
   "file_extension": ".py",
   "mimetype": "text/x-python",
   "name": "python",
   "nbconvert_exporter": "python",
   "pygments_lexer": "ipython3",
   "version": "3.11.5"
  }
 },
 "nbformat": 4,
 "nbformat_minor": 5
}
